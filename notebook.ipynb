{
 "cells": [
  {
   "cell_type": "markdown",
   "metadata": {},
   "source": [
    "# Notebook"
   ]
  },
  {
   "cell_type": "code",
   "execution_count": null,
   "metadata": {},
   "outputs": [],
   "source": [
    "%load_ext autoreload\n",
    "%autoreload 2\n",
    "\n",
    "from agent import *\n",
    "from maze_env import *\n",
    "from maze_exp import *\n",
    "from visualise import * "
   ]
  },
  {
   "cell_type": "code",
   "execution_count": null,
   "metadata": {},
   "outputs": [],
   "source": [
    "# Load config\n",
    "config_file = './neat_config.ini'\n",
    "config = neat.Config(neat.DefaultGenome, neat.DefaultReproduction,\n",
    "                        neat.DefaultSpeciesSet, neat.DefaultStagnation,\n",
    "                        config_file)"
   ]
  },
  {
   "cell_type": "code",
   "execution_count": null,
   "metadata": {},
   "outputs": [],
   "source": [
    "# Load test\n",
    "x = np.load('./Results/test.npy')\n",
    "\n",
    "top_agent = np.where(x['fitness'] == x['fitness'].max())\n",
    "\n",
    "with open('./Results/test.pickle', 'rb') as file:\n",
    "    genome_id, genome, channels = pickle.load(file)\n",
    "\n",
    "x[top_agent]"
   ]
  },
  {
   "cell_type": "code",
   "execution_count": null,
   "metadata": {},
   "outputs": [],
   "source": [
    "# Plotting\n",
    "node_names = {-1: 'Ch0 L', -2: 'Ch1 L', -3: 'Ch0 M', -4 : 'Ch1 M', -5 : 'Ch0 R', -6 : 'Ch1 R', 0 : 'Act L', 1 : 'Act R'}\n",
    "\n",
    "# Fitness \n",
    "plot_fitness_over_generations(x, plot_species=True)\n",
    "\n",
    "# Architecture\n",
    "plot_architecture(genome, config, node_names=node_names)\n",
    "\n",
    "# Maze path \n",
    "# Generate the mazes \n",
    "track = Maze(size=11, n_channels=2)\n",
    "track.generate_track_mazes(10)\n",
    "\n",
    "n_steps = 50 \n",
    "start_loc = [5,5]\n",
    "mz_n = 3\n",
    "mz = track.mazes[mz_n]\n",
    "time, path = maze_trial(mz, track.goal_locations[mz_n], channels, genome, config, n_steps)\n",
    "plot_path(path, mz, track.goal_locations[mz_n], n_steps)\n",
    "print(time)"
   ]
  }
 ],
 "metadata": {
  "kernelspec": {
   "display_name": "Multimodal_mazes",
   "language": "python",
   "name": "python3"
  },
  "language_info": {
   "codemirror_mode": {
    "name": "ipython",
    "version": 3
   },
   "file_extension": ".py",
   "mimetype": "text/x-python",
   "name": "python",
   "nbconvert_exporter": "python",
   "pygments_lexer": "ipython3",
   "version": "3.11.5"
  }
 },
 "nbformat": 4,
 "nbformat_minor": 2
}
