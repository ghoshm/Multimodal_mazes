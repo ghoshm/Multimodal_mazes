{
 "cells": [
  {
   "cell_type": "markdown",
   "metadata": {},
   "source": [
    "# Prey notebook"
   ]
  },
  {
   "cell_type": "code",
   "execution_count": null,
   "metadata": {},
   "outputs": [],
   "source": [
    "%load_ext autoreload\n",
    "%autoreload 2\n",
    "\n",
    "import numpy as np\n",
    "import neat\n",
    "import matplotlib.pyplot as plt\n",
    "\n",
    "import pickle\n",
    "import multimodal_mazes\n",
    "from tqdm import tqdm"
   ]
  },
  {
   "cell_type": "markdown",
   "metadata": {},
   "source": [
    "## Ideas \n",
    "\n",
    "* Odour - constant but noisy. \n",
    "* Sound - reliable but infrequent.\n",
    "* Rather than resetting the env to zero every step, you could decay it. E.g. env[:,:,:-1] *= 0.8 + blur. \n",
    "* Analysis: n_prey caught, speed, costs (e.g. movement vs food). \n",
    "* Evolve prey against different algorithms. Then, evolve predators against these prey.   "
   ]
  },
  {
   "cell_type": "markdown",
   "metadata": {},
   "source": [
    "## Prey trial"
   ]
  },
  {
   "cell_type": "code",
   "execution_count": null,
   "metadata": {},
   "outputs": [],
   "source": [
    "# Hyperparameters \n",
    "size = 11\n",
    "n_channels = 2 \n",
    "n_prey = 10\n",
    "n_steps = 50\n",
    "n_trials = 1000\n",
    "pk = 5 # the width of the prey's Gaussian signal (in rc)\n",
    "\n",
    "# Prey signal \n",
    "from scipy import signal\n",
    "k1d = signal.gaussian(pk, std=1)\n",
    "k2d = np.outer(k1d, k1d)  "
   ]
  },
  {
   "cell_type": "code",
   "execution_count": null,
   "metadata": {},
   "outputs": [],
   "source": [
    "results = []\n",
    "for n in range(n_trials):\n",
    "\n",
    "    # Create environment with track (1. and walls 0.)\n",
    "    env = np.zeros((size, size, n_channels + 1))\n",
    "    env[(pk//2):-(pk//2), (pk//2):-(pk//2), -1] = 1 \n",
    "\n",
    "    # Define an agent \n",
    "    agnt = multimodal_mazes.AgentRuleBased(location=[size//2,size//2], channels=[1,1], policy='Linear fusion')\n",
    "    agnt.sensor_noise_scale = 0.2\n",
    "\n",
    "    # Define prey \n",
    "    rcs = np.stack(np.argwhere(env[:,:,-1])) \n",
    "    prey_rcs = np.random.choice(range(len(rcs)), size=n_prey, replace=False)    \n",
    "    preys = []\n",
    "    for n in range(n_prey):\n",
    "        preys.append(multimodal_mazes.AgentRandom(location=rcs[prey_rcs[n]], channels=[0,0])) \n",
    "        preys[n].state = 1 # free (1) or caught (0)\n",
    "        preys[n].cues = n % 2 # channel for emitting cues \n",
    "\n",
    "    # Sensation-action loop\n",
    "    path = [] \n",
    "    prey_counter = np.copy(n_prey)\n",
    "    for time in range(n_steps):\n",
    "\n",
    "        env[:,:,:-1] *= 0.0 # reset channels  \n",
    "\n",
    "        # Prey \n",
    "        for prey in preys:\n",
    "            if prey.state == 1: \n",
    "                if (prey.location == agnt.location).all(): # caught \n",
    "                    prey.state = 0 \n",
    "                    prey_counter -= 1 \n",
    "\n",
    "                else: # free  \n",
    "                    r,c = prey.location\n",
    "                    env[r-(pk//2):r+(pk//2)+1, c-(pk//2):c+(pk//2)+1, prey.cues] += np.copy(k2d)\n",
    "\n",
    "        # If all prey have been caught\n",
    "        if prey_counter == 0:\n",
    "            break\n",
    "        \n",
    "        # Update env\n",
    "        for ch in range(n_channels):\n",
    "            env[:,:,ch] *= env[:,:,-1]\n",
    "\n",
    "        # Predator\n",
    "        agnt.sense(env)\n",
    "        agnt.policy()\n",
    "        agnt.act(env)\n",
    "\n",
    "        path.append(list(agnt.location))\n",
    "\n",
    "    results.append([preys[n].state for n in range(n_prey)])\n",
    "\n",
    "results = np.array(results)\n",
    "print(results.sum() / results.size)"
   ]
  },
  {
   "cell_type": "code",
   "execution_count": null,
   "metadata": {},
   "outputs": [],
   "source": [
    "# Plotting\n",
    "path = np.array(path)\n",
    "from matplotlib import colors\n",
    "prey_markers = ['P', 'X']\n",
    "\n",
    "plt.imshow(1 - env[:, :, -1], cmap=\"binary\", alpha=0.25)\n",
    "\n",
    "# Plot path\n",
    "cmap = colors.LinearSegmentedColormap.from_list(\n",
    "    \"\", [\"xkcd:teal blue\", \"xkcd:off white\", \"xkcd:coral\"], N=n_steps\n",
    ")\n",
    "for t in range(len(path) - 1):\n",
    "    plt.plot([path[t, 1], path[t + 1, 1]], [path[t, 0], path[t + 1, 0]], c=cmap(t), zorder=0)\n",
    "    plt.scatter(path[t + 1, 1], path[t + 1, 0], s=30, color=cmap(t), zorder=1)\n",
    "\n",
    "plt.axis(\"off\")\n",
    "\n",
    "# Add prey \n",
    "for prey in preys:\n",
    "    plt.scatter(prey.location[1], prey.location[0], color='k', alpha=0.5, marker=prey_markers[prey.cues], zorder=2)\n",
    "\n",
    "# Adjust axes \n",
    "plt.xlim([(pk//2) - 1, size - pk//2])\n",
    "plt.ylim([(pk//2) - 1, size - pk//2]) "
   ]
  }
 ],
 "metadata": {
  "kernelspec": {
   "display_name": "Multimodal_mazes",
   "language": "python",
   "name": "python3"
  },
  "language_info": {
   "codemirror_mode": {
    "name": "ipython",
    "version": 3
   },
   "file_extension": ".py",
   "mimetype": "text/x-python",
   "name": "python",
   "nbconvert_exporter": "python",
   "pygments_lexer": "ipython3",
   "version": "3.11.5"
  }
 },
 "nbformat": 4,
 "nbformat_minor": 2
}
