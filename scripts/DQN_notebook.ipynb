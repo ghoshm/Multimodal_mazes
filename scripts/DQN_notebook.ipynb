{
 "cells": [
  {
   "cell_type": "markdown",
   "metadata": {},
   "source": [
    "# DQN notebook"
   ]
  },
  {
   "cell_type": "code",
   "execution_count": null,
   "metadata": {},
   "outputs": [],
   "source": [
    "%load_ext autoreload\n",
    "%autoreload 2\n",
    "\n",
    "import numpy as np\n",
    "import neat\n",
    "import matplotlib.pyplot as plt\n",
    "from matplotlib import cm\n",
    "\n",
    "import pickle\n",
    "import multimodal_mazes\n",
    "from tqdm import tqdm\n",
    "\n",
    "import itertools\n",
    "import torch\n",
    "import torch.nn as nn\n",
    "import torch.optim as optim"
   ]
  },
  {
   "cell_type": "markdown",
   "metadata": {},
   "source": [
    "## Ideas \n",
    "* Optuna: https://colab.research.google.com/github/araffin/tools-for-robotic-rl-icra2022/blob/main/notebooks/optuna_lab.ipynb#scrollTo=E0yEokTDxhrC "
   ]
  },
  {
   "cell_type": "markdown",
   "metadata": {},
   "source": [
    "## Working"
   ]
  },
  {
   "cell_type": "code",
   "execution_count": null,
   "metadata": {},
   "outputs": [],
   "source": [
    "wm_flags = np.array(list(itertools.product([0,1], repeat=7)))\n",
    "agnt = multimodal_mazes.AgentDQN(location=[5,5], channels=[1,1], sensor_noise_scale=0.05, n_hidden_units=8, wm_flags=wm_flags[0])\n",
    "agnt"
   ]
  },
  {
   "cell_type": "code",
   "execution_count": null,
   "metadata": {},
   "outputs": [],
   "source": [
    "maze = multimodal_mazes.TrackMaze(size=11, n_channels=2)\n",
    "\n",
    "maze.generate(number=60000, noise_scale=0.0, gaps=0)\n",
    "# agnt.generate_policy(maze, n_steps=6)"
   ]
  },
  {
   "cell_type": "code",
   "execution_count": null,
   "metadata": {},
   "outputs": [],
   "source": [
    "plt.imshow(maze.mazes[100][:,:,1])"
   ]
  },
  {
   "cell_type": "code",
   "execution_count": null,
   "metadata": {},
   "outputs": [],
   "source": [
    "n = 0\n",
    "time, path = multimodal_mazes.maze_trial(mz=maze.mazes[n], mz_start_loc=maze.start_locations[n], mz_goal_loc=maze.goal_locations[n], channels=[1,1], sensor_noise_scale=0.05, drop_connect_p=0.0, n_steps=6, agnt=agnt)\n",
    "print(time, path)\n",
    "\n",
    "multimodal_mazes.plot_path(path, mz=maze.mazes[n], mz_goal_loc=maze.goal_locations[n], n_steps=6)"
   ]
  },
  {
   "cell_type": "code",
   "execution_count": null,
   "metadata": {},
   "outputs": [],
   "source": [
    "maze = multimodal_mazes.TrackMaze(size=11, n_channels=2)\n",
    "maze.generate(number=1000, noise_scale=0.0, gaps=0)\n",
    "\n",
    "fitness = multimodal_mazes.eval_fitness(genome=None, config=None, channels=[1,1], sensor_noise_scale=0.05, drop_connect_p=0.0, maze=maze, n_steps=6, agnt=agnt)\n",
    "print(fitness)"
   ]
  },
  {
   "cell_type": "code",
   "execution_count": null,
   "metadata": {},
   "outputs": [],
   "source": [
    "plt.plot(agnt.gradient_norms)"
   ]
  },
  {
   "cell_type": "code",
   "execution_count": null,
   "metadata": {},
   "outputs": [],
   "source": [
    "plt.imshow(agnt.output_to_output.weight.detach())\n",
    "plt.colorbar()"
   ]
  },
  {
   "cell_type": "markdown",
   "metadata": {},
   "source": [
    "## Fitness vs noise"
   ]
  },
  {
   "cell_type": "code",
   "execution_count": null,
   "metadata": {},
   "outputs": [],
   "source": [
    "# Fitness vs noise\n",
    "noises = np.linspace(start=0.0, stop=0.5, num=21)\n",
    "\n",
    "# Small set\n",
    "# wm_flags = np.array([[0,0,0,0,0,0,0], [0,0,0,0,0,0,0], [0,0,0,1,0,0,0],[0,0,1,0,0,0,0]])\n",
    "# colors = [\"xkcd:gray\", [0.0, 0.0, 0.0, 0.5], [0.039, 0.73, 0.71, 1], list(np.array([24, 156, 196, 255]) / 255)]\n",
    "\n",
    "# Full set \n",
    "wm_flags = np.array(list(itertools.product([0,1], repeat=7)))\n",
    "wm_flags = np.vstack((wm_flags[0], wm_flags))\n",
    "colors = cm.get_cmap(\"plasma\", len(wm_flags)).colors.tolist()\n",
    "\n",
    "results = np.zeros((len(noises), len(wm_flags)))\n",
    "\n",
    "# Generate mazes\n",
    "maze = multimodal_mazes.TrackMaze(size=11, n_channels=2)\n",
    "maze.generate(number=100, noise_scale=0.0, gaps=0)\n",
    "\n",
    "maze_test = multimodal_mazes.TrackMaze(size=11, n_channels=2)\n",
    "maze_test.generate(number=100, noise_scale=0.0, gaps=0)\n",
    "\n",
    "# Run\n",
    "for b, wm_flag in enumerate(tqdm(wm_flags)): \n",
    "\n",
    "    # Control architecture \n",
    "    if b != 1: \n",
    "        n_hidden_units = 8\n",
    "    else:\n",
    "        n_hidden_units = 34 \n",
    "    \n",
    "    # Train\n",
    "    agnt = multimodal_mazes.AgentDQN(location=[5,5], channels=[1,1], sensor_noise_scale=0.05, n_hidden_units=n_hidden_units, wm_flags=wm_flag)\n",
    "    agnt.generate_policy(maze, n_steps=6) \n",
    "\n",
    "    # Test \n",
    "    for a, noise in enumerate(noises):\n",
    "        results[a,b] = multimodal_mazes.eval_fitness(genome=None, config=None, channels=[1,1], sensor_noise_scale=noise, drop_connect_p=0.0, maze=maze_test, n_steps=6, agnt=agnt)\n",
    "\n",
    "# Plotting\n",
    "plt.plot([0.05, 0.05], [0,1], ':', color='k', alpha=0.5, label='Training noise')\n",
    "for b, wm_flag in enumerate(wm_flags): \n",
    "    plt.plot(noises, results[:,b], color=colors[b], label=wm_flag)\n",
    "\n",
    "plt.ylim([0, 1.05])\n",
    "plt.ylabel('Fitness')\n",
    "plt.xlabel('Sensor noise')\n",
    "plt.legend()"
   ]
  },
  {
   "cell_type": "code",
   "execution_count": null,
   "metadata": {},
   "outputs": [],
   "source": [
    "# Fitness vs noise AUC \n",
    "auc = np.trapz(y=results.T, x=noises, axis=1)\n",
    "idxs = np.argsort(auc)\n",
    "\n",
    "fig, ax = plt.subplots(nrows=1, ncols=1, figsize=(5*3,5), sharex=False, sharey=True)\n",
    "for b, idx in enumerate(idxs): \n",
    "    ml, sl, _ = plt.stem(b, auc[idx])\n",
    "    ml.set_color('k')\n",
    "    sl.set_color('k')\n",
    "# plt.xticks(range(len(wm_flags)), policies, rotation='vertical')\n",
    "plt.ylabel('AUC');"
   ]
  },
  {
   "cell_type": "markdown",
   "metadata": {},
   "source": [
    "## Loading"
   ]
  },
  {
   "cell_type": "code",
   "execution_count": null,
   "metadata": {},
   "outputs": [],
   "source": [
    "import os\n",
    "paths = ['../Results/test' + str(n) + '/' for n in range(38,48)]\n",
    "print(paths)\n",
    "\n",
    "noises = np.linspace(start=0.0, stop=0.5, num=21) # noises,\n",
    "results = np.zeros((len(noises), 129, len(paths))) * np.nan # noises x architectures x repeats\n",
    "wm_flags = np.zeros((129, 7, len(paths))) * np.nan # architectures x flags x repeats\n",
    "n_parameters = np.zeros((129, len(paths))) * np.nan # architectures x repeats\n",
    "auc = np.zeros((129, len(paths))) * np.nan # architectures x repeats \n",
    "\n",
    "for a, path in enumerate(tqdm(paths)):\n",
    "\n",
    "    # Load data \n",
    "    for f in os.listdir(path):\n",
    "        if f.endswith(\".pickle\"):\n",
    "            with open(path + f, 'rb') as file:\n",
    "                agnt = pickle.load(file)\n",
    "                idx = int(os.path.splitext(f)[0])\n",
    "\n",
    "                results[:, idx, a] = agnt.results\n",
    "                wm_flags[idx, :, a] = agnt.wm_flags\n",
    "                n_parameters[idx, a] = agnt.n_parameters\n",
    "                auc[idx, a] = np.trapz(y=agnt.results, x=noises)"
   ]
  },
  {
   "cell_type": "code",
   "execution_count": null,
   "metadata": {},
   "outputs": [],
   "source": [
    "# Data \n",
    "x = n_parameters.reshape(-1) # networks,\n",
    "y = auc.reshape(-1) # networks,\n",
    "\n",
    "y = y[np.isnan(x) == False]\n",
    "x = x[np.isnan(x) == False]\n",
    "\n",
    "idx = np.argsort(x)\n",
    "\n",
    "# Poly fit \n",
    "curve = np.poly1d(np.polyfit(x[idx],y[idx],deg=2))\n",
    "plt.plot(x[idx], curve(x[idx]), color='g')\n",
    "\n",
    "plt.scatter(x, y, color='k', marker='.', alpha=0.25)\n",
    "\n",
    "plt.xlabel('Number of parameters')\n",
    "plt.ylabel('AUC')"
   ]
  },
  {
   "cell_type": "code",
   "execution_count": null,
   "metadata": {},
   "outputs": [],
   "source": [
    "plt.scatter(np.nanmax(n_parameters, axis=1), np.nanmax(auc, axis=1), color='k', marker='.', alpha=0.25)"
   ]
  },
  {
   "cell_type": "code",
   "execution_count": null,
   "metadata": {},
   "outputs": [],
   "source": [
    "# Fitness vs noise AUC \n",
    "from matplotlib.patches import Rectangle\n",
    "\n",
    "interest = [1,128]\n",
    "i_cols = ['xkcd:orange', 'xkcd:purple']\n",
    "wm_f_labels = ['L0', 'L1', 'L2', 'S0', 'S1', 'B0', 'B1']\n",
    "\n",
    "idxs = np.argsort(np.nanmax(auc,axis=1))\n",
    "fig, ax = plt.subplots(nrows=2, ncols=1, figsize=(5*3,5), sharex=True, sharey=False)\n",
    "\n",
    "plt.sca(ax[0])\n",
    "plt.plot([range(129), range(129)], [np.nanmin(auc,axis=1)[idxs], np.nanmax(auc,axis=1)[idxs]], color='k', alpha=0.25);\n",
    "plt.ylabel('AUC');\n",
    "plt.xticks([])\n",
    "\n",
    "plt.sca(ax[1])\n",
    "for i in range(7):\n",
    "    plt.scatter(range(129), np.ones(129) * i, c=[(0, 0, 0, alpha) for alpha in np.nanmax(wm_flags, axis=2)[idxs,i]], s=5)\n",
    "plt.yticks(range(7), wm_f_labels)\n",
    "plt.xlabel('Architectures')\n",
    "\n",
    "for a, i in enumerate(interest):\n",
    "    plt.sca(ax[0])\n",
    "    plt.plot([np.where(idxs == i)[0], np.where(idxs == i)[0]], [np.nanmin(auc[i]), np.nanmax(auc[i])], color=i_cols[a])  \n",
    "\n",
    "    ax[1].add_patch(Rectangle((np.where(idxs == i)[0][0] -0.25, -0.95), 0.5, 7.05, color=i_cols[a], alpha=0.5))"
   ]
  },
  {
   "cell_type": "code",
   "execution_count": null,
   "metadata": {},
   "outputs": [],
   "source": [
    "# Fitness vs noise \n",
    "plt.plot([0.05, 0.05], [0,1], ':', color='k', alpha=0.5, label='Training noise')\n",
    "\n",
    "plt.plot([], [], 'k', alpha=0.1, label='All architectures')\n",
    "plt.plot(noises, results, 'k', alpha=0.1);\n",
    "plt.plot(noises, results[:,idxs[-1]], 'xkcd:dark seafoam', label='Most robust')\n",
    "plt.plot(noises, results[:,-1], 'xkcd:orange', label='Fully recurrent')\n",
    "plt.plot(noises, results[:,1], 'xkcd:purple', label='Feedforward (L)')\n",
    "\n",
    "plt.ylim([0, 1.05])\n",
    "plt.ylabel('Fitness')\n",
    "plt.xlabel('Sensor noise')\n",
    "plt.legend()"
   ]
  }
 ],
 "metadata": {
  "kernelspec": {
   "display_name": "Multimodal_mazes",
   "language": "python",
   "name": "python3"
  },
  "language_info": {
   "codemirror_mode": {
    "name": "ipython",
    "version": 3
   },
   "file_extension": ".py",
   "mimetype": "text/x-python",
   "name": "python",
   "nbconvert_exporter": "python",
   "pygments_lexer": "ipython3",
   "version": "3.11.5"
  }
 },
 "nbformat": 4,
 "nbformat_minor": 2
}
