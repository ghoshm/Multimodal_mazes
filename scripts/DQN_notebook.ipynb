{
 "cells": [
  {
   "cell_type": "markdown",
   "metadata": {},
   "source": [
    "# DQN notebook"
   ]
  },
  {
   "cell_type": "code",
   "execution_count": 1,
   "metadata": {},
   "outputs": [],
   "source": [
    "%load_ext autoreload\n",
    "%autoreload 2\n",
    "\n",
    "import numpy as np\n",
    "import neat\n",
    "import matplotlib.pyplot as plt\n",
    "\n",
    "import pickle\n",
    "import multimodal_mazes\n",
    "from tqdm import tqdm\n",
    "\n",
    "import itertools\n",
    "import torch\n",
    "import torch.nn as nn\n",
    "import torch.optim as optim"
   ]
  },
  {
   "cell_type": "code",
   "execution_count": 2,
   "metadata": {},
   "outputs": [],
   "source": [
    "wm_flags = np.array(list(itertools.product([0,1], repeat=7)))[0]\n",
    "self = multimodal_mazes.AgentDQN(location=[5,5], channels=[1,1], sensor_noise_scale=0.05, n_hidden_units=4, wm_flags=wm_flags)\n",
    "\n",
    "maze = multimodal_mazes.TrackMaze(size=11, n_channels=2)\n",
    "maze.generate(number=20000, noise_scale=0.0, gaps=0)"
   ]
  },
  {
   "cell_type": "code",
   "execution_count": 3,
   "metadata": {},
   "outputs": [],
   "source": [
    "self.generate_policy(maze,n_steps=10)"
   ]
  },
  {
   "cell_type": "code",
   "execution_count": null,
   "metadata": {},
   "outputs": [],
   "source": [
    "epsilon = 0.0\n",
    "n = -1\n",
    "\n",
    "# Reset agent\n",
    "prev_input = torch.zeros(self.n_input_units)\n",
    "hidden = torch.zeros(self.n_hidden_units)\n",
    "prev_output = torch.zeros(self.n_output_units)\n",
    "\n",
    "self.location = np.copy(maze.start_locations[n])\n",
    "self.outputs = torch.zeros(self.n_output_units)\n",
    "\n",
    "n_steps = 10\n",
    "\n",
    "# Trial\n",
    "for time in range(n_steps):\n",
    "    # Sense\n",
    "    self.sense(maze.mazes[n])\n",
    "\n",
    "    # Epsilon-greedy action selection\n",
    "    if torch.rand(1) < epsilon:\n",
    "        action = torch.randint(\n",
    "            low=0, high=self.n_output_units, size=(1,)\n",
    "        ).item()\n",
    "    else:\n",
    "        with torch.no_grad():\n",
    "            q_values, _, _, _ = self.forward(\n",
    "                prev_input, hidden, prev_output\n",
    "            )\n",
    "            action = torch.argmax(q_values).item()\n",
    "\n",
    "    # Predicted Q-value\n",
    "    q_values, prev_input, hidden, prev_output = self.forward(\n",
    "        prev_input, hidden, prev_output\n",
    "    )\n",
    "    predicted = q_values[action]\n",
    "\n",
    "    # Act\n",
    "    self.outputs *= 0.0\n",
    "    self.outputs[action] = 1.0\n",
    "    self.act(maze.mazes[n])\n",
    "\n",
    "    print(self.location)\n",
    "\n",
    "    if np.array_equal(self.location, maze.goal_locations[n]):\n",
    "        break"
   ]
  },
  {
   "cell_type": "code",
   "execution_count": null,
   "metadata": {},
   "outputs": [],
   "source": [
    "plt.imshow(self.input_to_hidden.weight.detach())\n",
    "plt.colorbar()"
   ]
  },
  {
   "cell_type": "code",
   "execution_count": null,
   "metadata": {},
   "outputs": [],
   "source": []
  }
 ],
 "metadata": {
  "kernelspec": {
   "display_name": "Multimodal_mazes",
   "language": "python",
   "name": "python3"
  },
  "language_info": {
   "codemirror_mode": {
    "name": "ipython",
    "version": 3
   },
   "file_extension": ".py",
   "mimetype": "text/x-python",
   "name": "python",
   "nbconvert_exporter": "python",
   "pygments_lexer": "ipython3",
   "version": "3.11.5"
  }
 },
 "nbformat": 4,
 "nbformat_minor": 2
}
