{
 "cells": [
  {
   "cell_type": "markdown",
   "metadata": {},
   "source": [
    "# Notebook"
   ]
  },
  {
   "cell_type": "code",
   "execution_count": null,
   "metadata": {},
   "outputs": [],
   "source": [
    "%load_ext autoreload\n",
    "%autoreload 2\n",
    "\n",
    "import numpy as np\n",
    "import neat\n",
    "import matplotlib.pyplot as plt\n",
    "\n",
    "import pickle\n",
    "import multimodal_mazes"
   ]
  },
  {
   "cell_type": "code",
   "execution_count": null,
   "metadata": {},
   "outputs": [],
   "source": [
    "# Load config\n",
    "config_file = '../neat_config.ini'\n",
    "config = neat.Config(neat.DefaultGenome, neat.DefaultReproduction,\n",
    "                        neat.DefaultSpeciesSet, neat.DefaultStagnation,\n",
    "                        config_file)"
   ]
  },
  {
   "cell_type": "code",
   "execution_count": null,
   "metadata": {},
   "outputs": [],
   "source": [
    "# Load test \n",
    "x = np.load('../Results/test.npy')\n",
    "\n",
    "top_agent = np.where(x['fitness'] == x['fitness'].max())\n",
    "\n",
    "with open('../Results/test.pickle', 'rb') as file:\n",
    "    genomes = pickle.load(file)\n",
    "\n",
    "genome_id, genome, channels = genomes[top_agent[0][0]]\n",
    "\n",
    "print(x[top_agent[0][0]])\n",
    "print(genome.size())"
   ]
  },
  {
   "cell_type": "code",
   "execution_count": null,
   "metadata": {},
   "outputs": [],
   "source": [
    "# Plotting\n",
    "\n",
    "# Fitness \n",
    "# multimodal_mazes.plot_fitness_over_generations(x, plot_species=True)\n",
    "\n",
    "# Architecture\n",
    "node_names = {-1: 'Ch0 L', -2: 'Ch1 L', -3 : 'Ch0 R', -4 : 'Ch1 R', \n",
    "              -5: 'Ch0 U', -6: 'Ch1 U', -7 : 'Ch0 D', -8 : 'Ch1 D',\n",
    "              0 : 'Act L', 1 : 'Act R', 2 : 'Act U', 3 : 'Act D'}\n",
    "multimodal_mazes.plot_architecture(genome, config, node_names=node_names)\n",
    "\n",
    "# Filtered architecture \n",
    "genome = multimodal_mazes.prune_architecture(genome, config)\n",
    "multimodal_mazes.plot_architecture(genome, config, node_names=node_names)\n",
    "\n",
    "# Maze path \n",
    "maze = multimodal_mazes.TrackMaze(size=11, n_channels=2)\n",
    "maze.generate(48)"
   ]
  },
  {
   "cell_type": "code",
   "execution_count": null,
   "metadata": {},
   "outputs": [],
   "source": [
    "# WIP: architecture metrics \n",
    "\n",
    "top_agents_metrics = [] \n",
    "for g in np.where(x['fitness'] > 0.95)[0]: \n",
    "    _, genome, channels = genomes[g]\n",
    "    genome = multimodal_mazes.prune_architecture(genome, config)\n",
    "    fitness = multimodal_mazes.eval_fitness(genome, config, channels, maze)\n",
    "    if fitness > 0.95: \n",
    "        arch_metrics = multimodal_mazes.architecture_metrics(genome, config, channels)\n",
    "        top_agents_metrics.append(list(arch_metrics.values()))\n",
    "        \n",
    "top_agents_metrics = np.array(top_agents_metrics)\n",
    "\n",
    "# Plotting \n",
    "f, (a0, a1) = plt.subplots(1, 2, gridspec_kw={'width_ratios': [0.8, 0.2]}, figsize=(10, 5))\n",
    "a0.plot(top_agents_metrics[:,:-2].T, c='k', linewidth=1.5, alpha=0.25);\n",
    "a0.set_xticks(np.arange(len(arch_metrics) -2), list(arch_metrics.keys())[:-2], rotation='vertical')\n",
    "a0.set_ylabel('Number')\n",
    "\n",
    "a1.plot(top_agents_metrics[:,-2:].T, c='k', linewidth=1.5, alpha=0.25);\n",
    "a1.set_xticks([0,1], list(arch_metrics.keys())[-2:], rotation='vertical')\n",
    "a1.set_ylabel('Ratio')\n",
    "a1.set_xlim([-0.25, 1.25])\n",
    "a1.set_ylim([-0.025, 1.025])"
   ]
  }
 ],
 "metadata": {
  "kernelspec": {
   "display_name": "Multimodal_mazes",
   "language": "python",
   "name": "python3"
  },
  "language_info": {
   "codemirror_mode": {
    "name": "ipython",
    "version": 3
   },
   "file_extension": ".py",
   "mimetype": "text/x-python",
   "name": "python",
   "nbconvert_exporter": "python",
   "pygments_lexer": "ipython3",
   "version": "3.11.5"
  }
 },
 "nbformat": 4,
 "nbformat_minor": 2
}
