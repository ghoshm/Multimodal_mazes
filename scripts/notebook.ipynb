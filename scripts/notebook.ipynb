{
 "cells": [
  {
   "cell_type": "markdown",
   "metadata": {},
   "source": [
    "# Notebook"
   ]
  },
  {
   "cell_type": "code",
   "execution_count": null,
   "metadata": {},
   "outputs": [],
   "source": [
    "%load_ext autoreload\n",
    "%autoreload 2\n",
    "\n",
    "import numpy as np\n",
    "import neat\n",
    "import matplotlib.pyplot as plt\n",
    "\n",
    "import pickle\n",
    "import multimodal_mazes\n",
    "\n",
    "path = '../Results/test/'"
   ]
  },
  {
   "cell_type": "code",
   "execution_count": null,
   "metadata": {},
   "outputs": [],
   "source": [
    "# Load config data \n",
    "config = neat.Config(neat.DefaultGenome, neat.DefaultReproduction,\n",
    "                        neat.DefaultSpeciesSet, neat.DefaultStagnation,\n",
    "                        path + 'neat_config.ini')\n",
    "\n",
    "exp_config = multimodal_mazes.load_exp_config(path + 'exp_config.ini')\n",
    "print(exp_config['noise_scale'])"
   ]
  },
  {
   "cell_type": "code",
   "execution_count": null,
   "metadata": {},
   "outputs": [],
   "source": [
    "# Load data \n",
    "x = np.load(path + '99.npy')\n",
    "\n",
    "top_agent = np.where(x['fitness'] == x['fitness'].max())\n",
    "\n",
    "with open(path + '99.pickle', 'rb') as file:\n",
    "    genomes = pickle.load(file)\n",
    "\n",
    "genome_id, genome, channels = genomes[top_agent[0][0]]\n",
    "\n",
    "print(x[top_agent[0][0]])\n",
    "print(genome.size())"
   ]
  },
  {
   "cell_type": "code",
   "execution_count": null,
   "metadata": {},
   "outputs": [],
   "source": [
    "# Plotting\n",
    "\n",
    "# Fitness \n",
    "multimodal_mazes.plot_fitness_over_generations(x, plot_species=True)\n",
    "\n",
    "# Architecture\n",
    "node_names = {-1: 'Ch0 L', -2: 'Ch1 L', -3 : 'Ch0 R', -4 : 'Ch1 R', \n",
    "              -5: 'Ch0 U', -6: 'Ch1 U', -7 : 'Ch0 D', -8 : 'Ch1 D',\n",
    "              0 : 'Act L', 1 : 'Act R', 2 : 'Act U', 3 : 'Act D'}\n",
    "multimodal_mazes.plot_architecture(genome, config, node_names=node_names)\n",
    "\n",
    "# Filtered architecture \n",
    "genome = multimodal_mazes.prune_architecture(genome, config)\n",
    "multimodal_mazes.plot_architecture(genome, config, node_names=node_names)"
   ]
  },
  {
   "cell_type": "code",
   "execution_count": null,
   "metadata": {},
   "outputs": [],
   "source": [
    "# Top genomes \n",
    "fitness_cutoff = 1.0\n",
    "\n",
    "# Generate mazes\n",
    "maze = multimodal_mazes.TrackMaze(size=exp_config['maze_size'], n_channels=len(exp_config['channels']))\n",
    "maze.generate(exp_config['n_mazes'], noise_scale=exp_config['noise_scale'])\n",
    "\n",
    "# Test agents \n",
    "top_agents = [] \n",
    "for g in np.where(x['fitness'] >= fitness_cutoff)[0]: \n",
    "    _, genome, channels = genomes[g]\n",
    "    genome = multimodal_mazes.prune_architecture(genome, config)\n",
    "    fitness = multimodal_mazes.eval_fitness(genome, config, channels, maze, exp_config['n_steps'])\n",
    "    if fitness >= fitness_cutoff: \n",
    "        top_agents.append(g)"
   ]
  },
  {
   "cell_type": "code",
   "execution_count": null,
   "metadata": {},
   "outputs": [],
   "source": [
    "# WIP: architecture metrics \n",
    "\n",
    "top_agents_metrics = []\n",
    "for g in top_agents:\n",
    "    _, genome, channels = genomes[g]\n",
    "    genome = multimodal_mazes.prune_architecture(genome, config)\n",
    "    arch_metrics = multimodal_mazes.architecture_metrics(genome, config, channels)\n",
    "    top_agents_metrics.append(list(arch_metrics.values()))\n",
    "        \n",
    "top_agents_metrics = np.array(top_agents_metrics)\n",
    "\n",
    "# Plotting \n",
    "f, (a0, a1) = plt.subplots(1, 2, gridspec_kw={'width_ratios': [0.8, 0.2]}, figsize=(10, 5))\n",
    "a0.plot(top_agents_metrics[:,:-2].T, c='k', linewidth=1.5, alpha=0.25);\n",
    "a0.set_xticks(np.arange(len(arch_metrics) -2), list(arch_metrics.keys())[:-2], rotation='vertical')\n",
    "a0.set_ylabel('Number')\n",
    "\n",
    "a1.plot(top_agents_metrics[:,-2:].T, c='k', linewidth=1.5, alpha=0.25);\n",
    "a1.set_xticks([0,1], list(arch_metrics.keys())[-2:], rotation='vertical')\n",
    "a1.set_ylabel('Ratio')\n",
    "a1.set_xlim([-0.25, 1.25])\n",
    "a1.set_ylim([-0.025, 1.025])"
   ]
  },
  {
   "cell_type": "code",
   "execution_count": null,
   "metadata": {},
   "outputs": [],
   "source": [
    "# WIP: noise \n",
    "noise_scales = np.linspace(start=0.0, stop=0.5, num=10)\n",
    "\n",
    "noise_results = np.zeros((len(top_agents), len(noise_scales)))\n",
    "\n",
    "agnt_random_baseline = multimodal_mazes.AgentRandom(location=None, channels=[0,0])\n",
    "noise_baseline = np.zeros((len(top_agents), len(noise_scales)))\n",
    "\n",
    "for a, noise_scale in enumerate(noise_scales):\n",
    "    # Generate mazes \n",
    "    maze = multimodal_mazes.TrackMaze(size=exp_config['maze_size'], n_channels=len(exp_config['channels']))\n",
    "    maze.generate(number=100, noise_scale=noise_scale)\n",
    "\n",
    "    # Test agents \n",
    "    for b, g in enumerate(top_agents): \n",
    "        _, genome, channels = genomes[g]\n",
    "        genome = multimodal_mazes.prune_architecture(genome, config)\n",
    "        noise_results[b,a] = multimodal_mazes.eval_fitness(genome, config, channels, maze, exp_config['n_steps'])\n",
    "\n",
    "        # Random baseline \n",
    "        noise_baseline[b, a] = multimodal_mazes.eval_fitness(genome=None, config=None, channels=[0,0], maze=maze, n_steps=exp_config['n_steps'], agnt=agnt_random_baseline)\n",
    "\n",
    "    print(a)\n",
    "\n",
    "noise_results_min = np.argmin(np.trapz(y=noise_results, x=noise_scales))\n",
    "noise_results_max = np.argmax(np.trapz(y=noise_results, x=noise_scales))\n",
    "\n",
    "print(noise_results_min, noise_results_max) # 123"
   ]
  },
  {
   "cell_type": "code",
   "execution_count": null,
   "metadata": {},
   "outputs": [],
   "source": [
    "# WIP: noise\n",
    "plt.plot(noise_scales, noise_results.T, c='k', alpha=0.1);\n",
    "plt.plot(noise_scales, np.mean(noise_baseline, axis=0), c='xkcd:gray', ls='dotted')\n",
    "plt.fill_between(noise_scales, np.min(noise_baseline, axis=0), np.max(noise_baseline, axis=0), color='xkcd:gray', alpha=0.25)\n",
    "plt.ylim(0, 1.0)\n",
    "plt.xlabel('Noise scale')\n",
    "plt.ylabel('Fitness')\n",
    "\n",
    "plt.plot(noise_scales, noise_results[noise_results_min], c='xkcd:purple', alpha=.75);\n",
    "plt.plot(noise_scales, noise_results[noise_results_max], c='xkcd:dark seafoam', alpha=.75);"
   ]
  },
  {
   "cell_type": "code",
   "execution_count": null,
   "metadata": {},
   "outputs": [],
   "source": [
    "# WIP: noise\n",
    "for g in [noise_results_min, noise_results_max]: \n",
    "    _, genome, channels = genomes[top_agents[g]]\n",
    "    genome = multimodal_mazes.prune_architecture(genome, config)\n",
    "    multimodal_mazes.plot_architecture(genome, config, node_names=node_names)"
   ]
  }
 ],
 "metadata": {
  "kernelspec": {
   "display_name": "Multimodal_mazes",
   "language": "python",
   "name": "python3"
  },
  "language_info": {
   "codemirror_mode": {
    "name": "ipython",
    "version": 3
   },
   "file_extension": ".py",
   "mimetype": "text/x-python",
   "name": "python",
   "nbconvert_exporter": "python",
   "pygments_lexer": "ipython3",
   "version": "3.11.5"
  }
 },
 "nbformat": 4,
 "nbformat_minor": 2
}
