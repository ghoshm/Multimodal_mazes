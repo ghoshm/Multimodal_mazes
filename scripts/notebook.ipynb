{
 "cells": [
  {
   "cell_type": "markdown",
   "metadata": {},
   "source": [
    "# Notebook"
   ]
  },
  {
   "cell_type": "code",
   "execution_count": null,
   "metadata": {},
   "outputs": [],
   "source": [
    "%load_ext autoreload\n",
    "%autoreload 2\n",
    "\n",
    "import numpy as np\n",
    "import neat\n",
    "import matplotlib.pyplot as plt\n",
    "\n",
    "import pickle\n",
    "import multimodal_mazes\n",
    "\n",
    "path = '../Results/test2/'"
   ]
  },
  {
   "cell_type": "code",
   "execution_count": null,
   "metadata": {},
   "outputs": [],
   "source": [
    "# Load config data \n",
    "config = neat.Config(neat.DefaultGenome, neat.DefaultReproduction,\n",
    "                        neat.DefaultSpeciesSet, neat.DefaultStagnation,\n",
    "                        path + 'neat_config.ini')\n",
    "\n",
    "exp_config = multimodal_mazes.load_exp_config(path + 'exp_config.ini')\n",
    "print('Maze noise: ' + str(exp_config['maze_noise_scale']))\n",
    "print('Sensor noise: ' + str(exp_config['sensor_noise_scale']))"
   ]
  },
  {
   "cell_type": "code",
   "execution_count": null,
   "metadata": {},
   "outputs": [],
   "source": [
    "# Load data \n",
    "x = np.load(path + '99.npy')\n",
    "\n",
    "top_agent = np.where(x['fitness'] == x['fitness'].max())\n",
    "\n",
    "with open(path + '99.pickle', 'rb') as file:\n",
    "    genomes = pickle.load(file)\n",
    "\n",
    "genome_id, genome, channels = genomes[top_agent[0][0]]\n",
    "\n",
    "print(x[top_agent[0][0]])\n",
    "print(genome.size())"
   ]
  },
  {
   "cell_type": "code",
   "execution_count": null,
   "metadata": {},
   "outputs": [],
   "source": [
    "# WIP: hidden layers \n",
    "\n",
    "# n = 4692 # 4692\n",
    "# genome_id, genome, channels = genomes[n]"
   ]
  },
  {
   "cell_type": "code",
   "execution_count": null,
   "metadata": {},
   "outputs": [],
   "source": [
    "# Plotting\n",
    "\n",
    "# Fitness \n",
    "multimodal_mazes.plot_fitness_over_generations(x, plot_species=True)\n",
    "\n",
    "# Architecture\n",
    "node_names = {-1: 'Ch0 L', -2: 'Ch1 L', -3 : 'Ch0 R', -4 : 'Ch1 R', \n",
    "              -5: 'Ch0 U', -6: 'Ch1 U', -7 : 'Ch0 D', -8 : 'Ch1 D',\n",
    "              0 : 'Act L', 1 : 'Act R', 2 : 'Act U', 3 : 'Act D'}\n",
    "genome = multimodal_mazes.prune_architecture(genome, config)\n",
    "plt.figure()\n",
    "multimodal_mazes.plot_architecture(genome, config, node_names=node_names)"
   ]
  },
  {
   "cell_type": "code",
   "execution_count": null,
   "metadata": {},
   "outputs": [],
   "source": [
    "# Top genomes \n",
    "fitness_cutoff = .95\n",
    "\n",
    "# Generate mazes\n",
    "maze = multimodal_mazes.TrackMaze(size=exp_config['maze_size'], n_channels=len(exp_config['channels']))\n",
    "maze.generate(exp_config['n_mazes'], noise_scale=exp_config['maze_noise_scale'])\n",
    "\n",
    "# Test agents \n",
    "top_agents = [] \n",
    "for g in np.where(x['fitness'] >= fitness_cutoff)[0]: \n",
    "    _, genome, channels = genomes[g]\n",
    "    genome = multimodal_mazes.prune_architecture(genome, config)\n",
    "    fitness = multimodal_mazes.eval_fitness(genome, config, channels, exp_config['sensor_noise_scale'], maze, exp_config['n_steps'])\n",
    "    if fitness >= fitness_cutoff: \n",
    "        top_agents.append(g)\n",
    "print(len(top_agents))"
   ]
  },
  {
   "cell_type": "code",
   "execution_count": null,
   "metadata": {},
   "outputs": [],
   "source": [
    "# Architecture metrics \n",
    "\n",
    "top_agents_metrics_n, top_agents_metrics_p = [], []\n",
    "for g in top_agents:\n",
    "    _, genome, channels = genomes[g]\n",
    "    genome = multimodal_mazes.prune_architecture(genome, config)\n",
    "    metrics_n, metrics_p = multimodal_mazes.architecture_metrics(genome, config, channels)\n",
    "    top_agents_metrics_n.append(list(metrics_n.values()))\n",
    "    top_agents_metrics_p.append(list(metrics_p.values()))\n",
    "        \n",
    "top_agents_metrics_n = np.array(top_agents_metrics_n)\n",
    "top_agents_metrics_p = np.array(top_agents_metrics_p)\n",
    "\n",
    "# Plotting \n",
    "f, (a0, a1) = plt.subplots(1, 2, gridspec_kw={'width_ratios': [0.4, 0.6]}, figsize=(15, 5))\n",
    "a0.plot(top_agents_metrics_n.T, c='k', linewidth=1.5, alpha=0.25);\n",
    "a0.set_xticks(np.arange(len(metrics_n)), list(metrics_n.keys()), rotation='vertical')\n",
    "a0.set_ylabel('Number')\n",
    "\n",
    "a1.plot(top_agents_metrics_p.T, c='k', linewidth=1.5, alpha=0.25);\n",
    "a1.set_xticks(np.arange(len(metrics_p)), list(metrics_p.keys()), rotation='vertical')\n",
    "a1.set_ylabel('Value')\n",
    "a1.set_ylim([-0.025, 1.025])"
   ]
  },
  {
   "cell_type": "code",
   "execution_count": null,
   "metadata": {},
   "outputs": [],
   "source": [
    "# Robustness to sensor noise\n",
    "noise_scales = np.linspace(start=0.0, stop=0.5, num=10)\n",
    "noise_results, noise_baseline = multimodal_mazes.robustness_to_sensor_noise(agents=top_agents, noise_scales=noise_scales, n_mazes=100, exp_config=exp_config, genomes=genomes, config=config)\n",
    "multimodal_mazes.plot_robustness(condition_values=noise_scales, condition_results=noise_results, condition_label='Sensor noise', noise_baseline=noise_baseline, agents=top_agents, genomes=genomes, config=config, node_names=node_names)"
   ]
  }
 ],
 "metadata": {
  "kernelspec": {
   "display_name": "Multimodal_mazes",
   "language": "python",
   "name": "python3"
  },
  "language_info": {
   "codemirror_mode": {
    "name": "ipython",
    "version": 3
   },
   "file_extension": ".py",
   "mimetype": "text/x-python",
   "name": "python",
   "nbconvert_exporter": "python",
   "pygments_lexer": "ipython3",
   "version": "3.11.5"
  }
 },
 "nbformat": 4,
 "nbformat_minor": 2
}
