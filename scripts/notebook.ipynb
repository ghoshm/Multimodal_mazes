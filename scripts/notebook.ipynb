{
 "cells": [
  {
   "cell_type": "markdown",
   "metadata": {},
   "source": [
    "# Notebook"
   ]
  },
  {
   "cell_type": "code",
   "execution_count": null,
   "metadata": {},
   "outputs": [],
   "source": [
    "%load_ext autoreload\n",
    "%autoreload 2\n",
    "\n",
    "import numpy as np\n",
    "import neat\n",
    "import matplotlib.pyplot as plt\n",
    "\n",
    "import pickle\n",
    "import multimodal_mazes"
   ]
  },
  {
   "cell_type": "code",
   "execution_count": null,
   "metadata": {},
   "outputs": [],
   "source": [
    "# Load config\n",
    "config_file = '../neat_config.ini'\n",
    "config = neat.Config(neat.DefaultGenome, neat.DefaultReproduction,\n",
    "                        neat.DefaultSpeciesSet, neat.DefaultStagnation,\n",
    "                        config_file)"
   ]
  },
  {
   "cell_type": "code",
   "execution_count": null,
   "metadata": {},
   "outputs": [],
   "source": [
    "# WIP: agent_regress\n",
    "agnt = multimodal_mazes.Agent(location=[5,5], channels=[1,1])\n",
    "maze = multimodal_mazes.TrackMaze(size=11, n_channels=2)\n",
    "maze.generate(48)\n",
    "\n",
    "x, y = [], []\n",
    "for n in range(len(maze.mazes)):\n",
    "    mz = maze.mazes[n]\n",
    "    mz_goal_loc = maze.goal_locations[n]\n",
    "    d_map = np.copy(maze.d_maps[n]) \n",
    "    d_map[d_map == 0.0] = np.inf\n",
    "    d_map[mz_goal_loc[0], mz_goal_loc[1]] = 0.0\n",
    "\n",
    "    # For each segment of track in the maze\n",
    "    for rc in zip(np.where(mz[:,:,-1])[0], np.where(mz[:,:,-1])[1]): \n",
    "        agnt.location = np.array(rc) # set the agent's location\n",
    "\n",
    "        if np.array_equal(agnt.location, mz_goal_loc):\n",
    "            continue\n",
    "        else: \n",
    "            # Record senses\n",
    "            agnt.sense(mz) \n",
    "            x.append(list(agnt.channel_inputs.reshape(-1)))\n",
    "\n",
    "            # Record best action  \n",
    "            action_dists = d_map[rc[0] + agnt.actions[0], rc[1] + agnt.actions[1]]\n",
    "            action_dists += np.random.rand(len(action_dists)) / 1000\n",
    "            y.append(np.argmin(action_dists))\n",
    "            \n",
    "x = np.array(x)\n",
    "y = np.array(y)\n",
    "\n",
    "# Check label consistency\n",
    "tmp = []\n",
    "for n in range(x.shape[0]):\n",
    "    idx = np.where((x == x[n]).all(axis=1))[0]\n",
    "\n",
    "    if len(np.unique(y[idx])) == 2: \n",
    "        print(n)\n",
    "\n",
    "from sklearn.linear_model import LinearRegression\n",
    "reg = LinearRegression().fit(x, y)\n",
    "print(reg.score(x, y))\n",
    "print(reg.coef_)\n",
    "\n",
    "from sklearn.preprocessing import PolynomialFeatures\n",
    "poly = PolynomialFeatures(degree=2, interaction_only=False, include_bias=True)\n",
    "x_poly = poly.fit_transform(x)\n",
    "reg = LinearRegression().fit(x_poly, y)\n",
    "print(reg.score(x_poly, y))\n",
    "print(len(reg.coef_))\n",
    "print(len(reg.coef_[reg.coef_ > 0.0]))"
   ]
  },
  {
   "cell_type": "code",
   "execution_count": null,
   "metadata": {},
   "outputs": [],
   "source": [
    "# Load test\n",
    "x = np.load('../Results/test.npy')\n",
    "\n",
    "top_agent = np.where(x['fitness'] == x['fitness'].max())\n",
    "\n",
    "with open('../Results/test.pickle', 'rb') as file:\n",
    "    genome_id, genome, channels = pickle.load(file)\n",
    "\n",
    "print(x[top_agent])\n",
    "print(genome.size())\n"
   ]
  },
  {
   "cell_type": "code",
   "execution_count": null,
   "metadata": {},
   "outputs": [],
   "source": [
    "# Plotting\n",
    "\n",
    "# Fitness \n",
    "multimodal_mazes.plot_fitness_over_generations(x, plot_species=True)\n",
    "\n",
    "# Architecture\n",
    "node_names = {-1: 'Ch0 L', -2: 'Ch1 L', -3 : 'Ch0 R', -4 : 'Ch1 R', \n",
    "              -5: 'Ch0 U', -6: 'Ch1 U', -7 : 'Ch0 D', -8 : 'Ch1 D',\n",
    "              0 : 'Act L', 1 : 'Act R', 2 : 'Act U', 3 : 'Act D'}\n",
    "multimodal_mazes.plot_architecture(genome, config, node_names=node_names)\n",
    "\n",
    "# Maze path \n",
    "maze = multimodal_mazes.TrackMaze(size=11, n_channels=2)\n",
    "maze.generate(48)"
   ]
  },
  {
   "cell_type": "code",
   "execution_count": null,
   "metadata": {},
   "outputs": [],
   "source": [
    "n_steps = 10\n",
    "mz_n = -1\n",
    "mz = maze.mazes[mz_n]\n",
    "time, path = multimodal_mazes.maze_trial(mz, maze.start_locations[mz_n], maze.goal_locations[mz_n], channels, genome, config, n_steps)\n",
    "multimodal_mazes.plot_path(path, mz, maze.goal_locations[mz_n], n_steps)\n",
    "print(time)"
   ]
  },
  {
   "cell_type": "code",
   "execution_count": null,
   "metadata": {},
   "outputs": [],
   "source": [
    "fitness, times, paths = [], [], []\n",
    "# For each maze\n",
    "for mz_n, mz in enumerate(maze.mazes):\n",
    "    # Run trial\n",
    "    time, path = multimodal_mazes.maze_trial(\n",
    "        mz,\n",
    "        maze.start_locations[mz_n],\n",
    "        maze.goal_locations[mz_n],\n",
    "        channels,\n",
    "        genome,\n",
    "        config,\n",
    "        n_steps,\n",
    "    )\n",
    "\n",
    "    # Record normalised fitness\n",
    "    times.append(\n",
    "        1\n",
    "        - (\n",
    "            (time - maze.fastest_solutions[mz_n])\n",
    "            / (n_steps - 1 - maze.fastest_solutions[mz_n])\n",
    "        )\n",
    "    )\n",
    "\n",
    "    paths.append(\n",
    "        (maze.d_maps[mz_n].max() - maze.d_maps[mz_n][path[-1][0], path[-1][1]])\n",
    "        / maze.d_maps[mz_n].max()\n",
    "    )\n",
    "\n",
    "# Fitness\n",
    "fitness = (np.array(times) + np.array(paths)) * 0.5\n",
    "\n",
    "print(fitness)\n",
    "print(fitness.mean())"
   ]
  }
 ],
 "metadata": {
  "kernelspec": {
   "display_name": "Multimodal_mazes",
   "language": "python",
   "name": "python3"
  },
  "language_info": {
   "codemirror_mode": {
    "name": "ipython",
    "version": 3
   },
   "file_extension": ".py",
   "mimetype": "text/x-python",
   "name": "python",
   "nbconvert_exporter": "python",
   "pygments_lexer": "ipython3",
   "version": "3.11.5"
  }
 },
 "nbformat": 4,
 "nbformat_minor": 2
}
