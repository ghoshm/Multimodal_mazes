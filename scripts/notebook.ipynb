{
 "cells": [
  {
   "cell_type": "markdown",
   "metadata": {},
   "source": [
    "# Notebook"
   ]
  },
  {
   "cell_type": "code",
   "execution_count": null,
   "metadata": {},
   "outputs": [],
   "source": [
    "%load_ext autoreload\n",
    "%autoreload 2\n",
    "\n",
    "import numpy as np\n",
    "import neat\n",
    "import matplotlib.pyplot as plt\n",
    "\n",
    "import pickle\n",
    "import multimodal_mazes\n",
    "from tqdm import tqdm\n",
    "\n",
    "path = '../Results/test6/'"
   ]
  },
  {
   "cell_type": "markdown",
   "metadata": {},
   "source": [
    "## Initialisations"
   ]
  },
  {
   "cell_type": "code",
   "execution_count": null,
   "metadata": {},
   "outputs": [],
   "source": [
    "# WIP: Initialisations \n",
    "path = '../'\n",
    "config = neat.Config(neat.DefaultGenome, neat.DefaultReproduction,\n",
    "                        neat.DefaultSpeciesSet, neat.DefaultStagnation,\n",
    "                        path + 'neat_config.ini')\n",
    "\n",
    "p = neat.Population(config)"
   ]
  },
  {
   "cell_type": "code",
   "execution_count": null,
   "metadata": {},
   "outputs": [],
   "source": [
    "# WIP: Initialisations\n",
    "genome = p.population[6]\n",
    "node_names = {-1: 'Ch0 L', -2: 'Ch1 L', -3 : 'Ch0 R', -4 : 'Ch1 R', \n",
    "              -5: 'Ch0 U', -6: 'Ch1 U', -7 : 'Ch0 D', -8 : 'Ch1 D',\n",
    "              0 : 'Act L', 1 : 'Act R', 2 : 'Act U', 3 : 'Act D', 4 : 'Wait'}\n",
    "multimodal_mazes.plot_architecture(genome, config, node_names=node_names)"
   ]
  },
  {
   "cell_type": "markdown",
   "metadata": {},
   "source": [
    "## Cue fills"
   ]
  },
  {
   "cell_type": "code",
   "execution_count": null,
   "metadata": {},
   "outputs": [],
   "source": [
    "# WIP: path fidelities\n",
    "noises = np.linspace(start=0.0, stop=0.1, num=18)\n",
    "channels = [[0,0], [1,0], [0, 1], [1,1]]\n",
    "results = np.zeros((len(noises), len(channels)))\n",
    "cols = ['k', \"xkcd:dark seafoam\", \"xkcd:purple\", \"xkcd:teal blue\"]\n",
    "labels = ['- / -', '+/ -', '- /+', '+/+']\n",
    "\n",
    "for a, noise in enumerate(noises):\n",
    "\n",
    "    # Generate mazes\n",
    "    maze = multimodal_mazes.GeneralMaze(size=11, n_channels=2)\n",
    "    maze.generate(number=100, noise_scale=0.0)\n",
    "\n",
    "    # Test agents\n",
    "    for b, channel in enumerate(channels): \n",
    "        agnt = multimodal_mazes.AgentRuleBased(location=None, channels=channel, memory_on=False)\n",
    "        fitness = multimodal_mazes.eval_fitness(genome=None, config=None, channels=channel, sensor_noise_scale=noise, drop_connect_p=0.0, maze=maze, n_steps=40, agnt=agnt)\n",
    "\n",
    "        results[a, b] = fitness\n",
    "\n",
    "for b, channel in enumerate(channels): \n",
    "    plt.plot(noises, results[:,b], c=cols[b], label=labels[b])\n",
    "\n",
    "plt.ylim([0, 1.05])\n",
    "plt.ylabel('Fitness')\n",
    "plt.xlabel('Sensor Noise')\n",
    "plt.legend()"
   ]
  },
  {
   "cell_type": "code",
   "execution_count": null,
   "metadata": {},
   "outputs": [],
   "source": [
    "# WIP: Example mazes \n",
    "maze = multimodal_mazes.GeneralMaze(size=11, n_channels=2)\n",
    "maze.generate(number=1000, noise_scale=0.0)\n",
    "print(max(maze.fastest_solutions))"
   ]
  },
  {
   "cell_type": "code",
   "execution_count": null,
   "metadata": {},
   "outputs": [],
   "source": [
    "# WIP: Example paths \n",
    "n = 0\n",
    "# path = multimodal_mazes.GeneralMaze.shortest_path(mz=maze.mazes[n], d_map=maze.d_maps[n], start=maze.start_locations[n], exit=maze.goal_locations[n])\n",
    "agnt = multimodal_mazes.AgentRuleBased(location=None, channels=[1,1], memory_on=False)\n",
    "time, path = multimodal_mazes.maze_trial(mz=maze.mazes[n], mz_start_loc=maze.start_locations[n], mz_goal_loc=maze.goal_locations[n], channels=[1,1], sensor_noise_scale=0.0, drop_connect_p=0.0, n_steps=150, agnt=agnt)\n",
    "multimodal_mazes.plot_path(path=path, mz=maze.mazes[n], mz_goal_loc=maze.goal_locations[n], n_steps=len(path))"
   ]
  },
  {
   "cell_type": "markdown",
   "metadata": {},
   "source": [
    "## Multiple experiments"
   ]
  },
  {
   "cell_type": "code",
   "execution_count": null,
   "metadata": {},
   "outputs": [],
   "source": [
    "# WIP: Comparing 2 experiments with n repeats each \n",
    "\n",
    "# Building the feature matricies\n",
    "import os\n",
    "paths = ['../Results/test3/', '../Results/test4/']\n",
    "fitness_cutoff = 1.0\n",
    "\n",
    "metrics_x, metrics_y, metrics_z = [], [], []\n",
    "for a, path in enumerate(tqdm(paths)): \n",
    "\n",
    "    # Load config data \n",
    "    config = neat.Config(neat.DefaultGenome, neat.DefaultReproduction,\n",
    "                        neat.DefaultSpeciesSet, neat.DefaultStagnation,\n",
    "                        path + 'neat_config.ini')\n",
    "    exp_config = multimodal_mazes.load_exp_config(path + 'exp_config.ini')\n",
    "\n",
    "    # Generate mazes\n",
    "    maze = multimodal_mazes.TrackMaze(size=exp_config['maze_size'], n_channels=len(exp_config['channels']))\n",
    "    maze.generate(number=exp_config['n_mazes'], noise_scale=exp_config['maze_noise_scale'], gaps=exp_config['maze_gaps']) \n",
    "\n",
    "    # Load data \n",
    "    for f in os.listdir(path):\n",
    "        if f.endswith(\".npy\"):\n",
    "            \n",
    "            print(\"Testing: \" + str(a) + \"-\" + os.path.splitext(f)[0])\n",
    "            exp_data = np.load(path + f)\n",
    "            with open(path + os.path.splitext(f)[0] + '.pickle', 'rb') as file:\n",
    "                genomes = pickle.load(file)\n",
    "\n",
    "            # Select top agents \n",
    "            top_agents = multimodal_mazes.id_top_agents(fitness_cutoff=fitness_cutoff, exp_data=exp_data, maze=maze, exp_config=exp_config, genomes=genomes, config=config)\n",
    "\n",
    "            if top_agents:\n",
    "                # Calculate architecture metrics \n",
    "                top_agents_metrics_n, top_agents_metrics_p, mn_keys, mp_keys = multimodal_mazes.architecture_metrics_matrices(agents=top_agents, genomes=genomes, config=config)     \n",
    "                results_x = np.concatenate((top_agents_metrics_n, top_agents_metrics_p), axis=1) \n",
    "\n",
    "                # Store data \n",
    "                metrics_x.append(results_x)\n",
    "                metrics_y.append(np.ones(len(results_x)) * a)\n",
    "                metrics_z.append(np.ones(len(results_x)) * int(os.path.splitext(f)[0]))\n",
    "\n",
    "metrics_x = np.concatenate(metrics_x, axis=0) # agents x metrics \n",
    "metrics_y = np.concatenate(metrics_y, axis=0) # agents, \n",
    "metrics_z = np.concatenate(metrics_z, axis=0) # agents, \n",
    "metrics_labels = list(mn_keys) + list(mp_keys) # metrics, \n",
    "metrics_type = np.concatenate((np.zeros(len(mn_keys)), np.ones(len(mp_keys)))) # metrics, \n",
    "\n",
    "assert len(metrics_x) == len(metrics_y) == len(metrics_z), \"Mismatched data?\"\n",
    "assert metrics_x.shape[1] == len(metrics_labels) == len(metrics_type), \"Mismatched labels?\"\n",
    "\n",
    "print(np.unique(metrics_y, return_counts=True))"
   ]
  },
  {
   "cell_type": "code",
   "execution_count": null,
   "metadata": {},
   "outputs": [],
   "source": [
    "# WIP: Comparing features \n",
    "from sklearn.tree import DecisionTreeClassifier\n",
    "from sklearn.model_selection import cross_val_score\n",
    "\n",
    "model = DecisionTreeClassifier(class_weight=\"balanced\")\n",
    "scores = cross_val_score(estimator=model, X=metrics_x, y=metrics_y, cv=10)\n",
    "print(scores)\n",
    "model.fit(metrics_x, metrics_y)\n",
    "plt.plot(model.feature_importances_) # sums to 1"
   ]
  },
  {
   "cell_type": "code",
   "execution_count": null,
   "metadata": {},
   "outputs": [],
   "source": [
    "# WIP: Ranking features \n",
    "acc_per_metric = []\n",
    "for f, _ in enumerate(metrics_labels): \n",
    "    model = DecisionTreeClassifier(class_weight=\"balanced\", max_depth=1)\n",
    "    scores = cross_val_score(estimator=model, X=metrics_x[:,f].reshape(-1,1), y=metrics_y, cv=10)\n",
    "    acc_per_metric.append(scores.mean())\n",
    "\n",
    "# WIP: Plot ranked features \n",
    "f, ax = plt.subplots(1, figsize=(10, 5))\n",
    "metrics_sorted = np.argsort(acc_per_metric)[::-1]\n",
    "plt.plot(np.array(acc_per_metric)[metrics_sorted], 'k')\n",
    "v, c = np.unique(metrics_y, return_counts=True)\n",
    "plt.hlines(y = max(c) / sum(c), xmin=0, xmax=len(metrics_sorted)-1, color=\"xkcd:gray\", ls=\"dotted\")\n",
    "plt.xticks(range(len(metrics_labels)), [metrics_labels[l] for l in metrics_sorted], rotation='vertical')\n",
    "plt.ylabel('Accuracy')"
   ]
  },
  {
   "cell_type": "code",
   "execution_count": null,
   "metadata": {},
   "outputs": [],
   "source": [
    "# WIP: Plot just the best feature \n",
    "cols = ['xkcd:grey', '#0ABAB5']\n",
    "\n",
    "best_feature = metrics_sorted[1]\n",
    "for b in [0,1]:\n",
    "    parts = plt.violinplot(dataset=metrics_x[metrics_y==b,:][:, best_feature], positions=[b], showextrema=False, showmedians=True);\n",
    "    for pc in parts['bodies']:\n",
    "        pc.set_facecolor(cols[b])\n",
    "        pc.set_edgecolor(cols[b])\n",
    "        pc.set_alpha(0.5)\n",
    "\n",
    "    vp = parts['cmedians']\n",
    "    vp.set_edgecolor(cols[b])\n",
    "    vp.set_alpha(1)\n",
    "\n",
    "plt.ylabel(metrics_labels[best_feature])\n",
    "plt.xticks([0,1], ['A', 'B'])"
   ]
  },
  {
   "cell_type": "code",
   "execution_count": null,
   "metadata": {},
   "outputs": [],
   "source": [
    "# WIP: All features plot  \n",
    "cols = ['xkcd:grey', '#0ABAB5']\n",
    "y_labels = ['Number', 'Value']\n",
    "offsets = [-0.25, 0.25]\n",
    "\n",
    "lines = []\n",
    "f, ax = plt.subplots(1, 2, gridspec_kw={'width_ratios': [0.4, 0.6]}, figsize=(15, 5))\n",
    "for a in [0,1]: # for each axis \n",
    "    plt.sca(ax[a])\n",
    "    ms = metrics_sorted[metrics_type[metrics_sorted] == a]\n",
    "    for b in [0,1]: # for each group \n",
    "        parts = plt.violinplot(dataset=metrics_x[metrics_y==b,:][:, ms], positions=np.linspace(start=0, stop=len(ms) - 1, num=len(ms))+offsets[b], showextrema=False, showmedians=True);\n",
    "        for pc in parts['bodies']:\n",
    "            pc.set_facecolor(cols[b])\n",
    "            pc.set_edgecolor(cols[b])\n",
    "            pc.set_alpha(0.5)\n",
    "\n",
    "        vp = parts['cmedians']\n",
    "        vp.set_edgecolor(cols[b])\n",
    "        vp.set_alpha(1)\n",
    "\n",
    "        if a == 0: lines.append(vp)\n",
    "\n",
    "    ax[a].set_xticks(np.arange(len(ms)), [metrics_labels[i] for i in ms], rotation='vertical')\n",
    "    ax[a].set_ylabel(y_labels[a])\n",
    "\n",
    "# Legend \n",
    "plt.legend(lines, ['A, n=' + str(sum(metrics_y == 0)),\n",
    "                   'B, n=' + str(sum(metrics_y == 1))])"
   ]
  },
  {
   "cell_type": "markdown",
   "metadata": {},
   "source": [
    "## Single experiments"
   ]
  },
  {
   "cell_type": "code",
   "execution_count": null,
   "metadata": {},
   "outputs": [],
   "source": [
    "# Load config data \n",
    "config = neat.Config(neat.DefaultGenome, neat.DefaultReproduction,\n",
    "                        neat.DefaultSpeciesSet, neat.DefaultStagnation,\n",
    "                        path + 'neat_config.ini')\n",
    "\n",
    "exp_config = multimodal_mazes.load_exp_config(path + 'exp_config.ini')\n",
    "print('Maze noise: ' + str(exp_config['maze_noise_scale']))\n",
    "print('Sensor noise: ' + str(exp_config['sensor_noise_scale']))\n",
    "print('Drop connect p: ' + str(exp_config['drop_connect_p']))"
   ]
  },
  {
   "cell_type": "code",
   "execution_count": null,
   "metadata": {},
   "outputs": [],
   "source": [
    "# Load data \n",
    "x = np.load(path + '99.npy')\n",
    "\n",
    "top_agent = np.where(x['fitness'] == x['fitness'].max())\n",
    "\n",
    "with open(path + '99.pickle', 'rb') as file:\n",
    "    genomes = pickle.load(file)\n",
    "\n",
    "genome_id, genome, channels = genomes[top_agent[0][0]]\n",
    "\n",
    "print(x[top_agent[0][0]])\n",
    "print(genome.size())"
   ]
  },
  {
   "cell_type": "code",
   "execution_count": null,
   "metadata": {},
   "outputs": [],
   "source": [
    "# Plotting\n",
    "\n",
    "# Fitness \n",
    "multimodal_mazes.plot_fitness_over_generations(x, plot_species=True)\n",
    "\n",
    "# Architecture\n",
    "node_names = {-1: 'Ch0 L', -2: 'Ch1 L', -3 : 'Ch0 R', -4 : 'Ch1 R', \n",
    "              -5: 'Ch0 U', -6: 'Ch1 U', -7 : 'Ch0 D', -8 : 'Ch1 D',\n",
    "              0 : 'Act L', 1 : 'Act R', 2 : 'Act U', 3 : 'Act D', 4 : 'Wait'}\n",
    "genome = multimodal_mazes.prune_architecture(genome, config)\n",
    "plt.figure()\n",
    "multimodal_mazes.plot_architecture(genome, config, node_names=node_names)"
   ]
  },
  {
   "cell_type": "code",
   "execution_count": null,
   "metadata": {},
   "outputs": [],
   "source": [
    "# Top genomes \n",
    "fitness_cutoff = 0.9\n",
    "\n",
    "# Generate mazes\n",
    "maze = multimodal_mazes.GeneralMaze(size=exp_config['maze_size'], n_channels=len(exp_config['channels']))\n",
    "maze.generate(number=exp_config['n_mazes'], noise_scale=exp_config['maze_noise_scale'])\n",
    "\n",
    "# Test agents \n",
    "top_agents = multimodal_mazes.id_top_agents(fitness_cutoff=fitness_cutoff, exp_data=x, maze=maze, exp_config=exp_config, genomes=genomes, config=config)\n",
    "print(len(top_agents))"
   ]
  },
  {
   "cell_type": "code",
   "execution_count": null,
   "metadata": {},
   "outputs": [],
   "source": [
    "# Visualising a path\n",
    "n=0\n",
    "time, path = multimodal_mazes.maze_trial(mz=maze.mazes[n], mz_start_loc=maze.start_locations[n], mz_goal_loc=maze.goal_locations[n], channels=[1,1], sensor_noise_scale=0.0, drop_connect_p=0.0, n_steps=30, genome=genome, config=config)\n",
    "multimodal_mazes.plot_path(path=path, mz=maze.mazes[n], mz_goal_loc=maze.goal_locations[n], n_steps=len(path))"
   ]
  },
  {
   "cell_type": "code",
   "execution_count": null,
   "metadata": {},
   "outputs": [],
   "source": [
    "# Architecture metrics \n",
    "top_agents_metrics_n, top_agents_metrics_p, mn_keys, mp_keys = multimodal_mazes.architecture_metrics_matrices(agents=top_agents, genomes=genomes, config=config)\n",
    "\n",
    "# Plotting \n",
    "f, (a0, a1) = plt.subplots(1, 2, gridspec_kw={'width_ratios': [0.4, 0.6]}, figsize=(15, 5))\n",
    "a0.plot(top_agents_metrics_n.T, c='k', linewidth=1.5, alpha=0.25);\n",
    "a0.set_xticks(np.arange(len(mn_keys)), mn_keys, rotation='vertical')\n",
    "a0.set_ylabel('Number')\n",
    "\n",
    "a1.plot(top_agents_metrics_p.T, c='k', linewidth=1.5, alpha=0.25);\n",
    "a1.set_xticks(np.arange(len(mp_keys)), mp_keys, rotation='vertical')\n",
    "a1.set_ylabel('Value')\n",
    "a1.set_ylim([-0.025, 1.025])"
   ]
  },
  {
   "cell_type": "code",
   "execution_count": null,
   "metadata": {},
   "outputs": [],
   "source": [
    "# WIP: Visualising networks with specific features \n",
    "# idx = np.where(top_agents_metrics_n[:,4] == top_agents_metrics_n[:,4].min()) # fewest edges\n",
    "# idx = np.where(top_agents_metrics_p[:,2] == top_agents_metrics_p[:,2].max()) # most ii connections\n",
    "idx = np.where(top_agents_metrics_p[:,-2] == top_agents_metrics_p[:,-2].min()) # lowest e:i ratio\n",
    "\n",
    "# Mode transitivity\n",
    "# v,c = np.unique(top_agents_metrics_p[:,-3], return_counts=True)\n",
    "# idx = np.where(top_agents_metrics_p[:,-3] == v[np.argmax(c)]) \n",
    "\n",
    "_, genome, _ = genomes[top_agents[idx[0][0]]]\n",
    "genome = multimodal_mazes.prune_architecture(genome, config)\n",
    "plt.figure()\n",
    "multimodal_mazes.plot_architecture(genome, config, node_names=node_names)"
   ]
  },
  {
   "cell_type": "markdown",
   "metadata": {},
   "source": [
    "## Robustness"
   ]
  },
  {
   "cell_type": "code",
   "execution_count": null,
   "metadata": {},
   "outputs": [],
   "source": [
    "# Robustness to sensor noise\n",
    "noise_scales = np.linspace(start=0.0, stop=0.5, num=10)\n",
    "noise_results, noise_baseline = multimodal_mazes.robustness_to_sensor_noise(agents=top_agents, noise_scales=noise_scales, n_mazes=100, exp_config=exp_config, genomes=genomes, config=config)\n",
    "multimodal_mazes.plot_robustness(condition_values=noise_scales, condition_results=noise_results, condition_label='Sensor noise', noise_baseline=noise_baseline, agents=top_agents, genomes=genomes, config=config, node_names=node_names)\n",
    "print(min(np.trapz(y=noise_results, x=noise_scales)), max(np.trapz(y=noise_results, x=noise_scales)))"
   ]
  },
  {
   "cell_type": "code",
   "execution_count": null,
   "metadata": {},
   "outputs": [],
   "source": [
    "# Robustness to dropconnect \n",
    "drop_scales = np.linspace(start=0.0, stop=1.0, num=10)\n",
    "drop_results, drop_baseline = multimodal_mazes.robustness_to_drop_connect(agents=top_agents, drop_connect_ps=drop_scales, n_mazes=100, exp_config=exp_config, genomes=genomes, config=config)\n",
    "multimodal_mazes.plot_robustness(condition_values=drop_scales, condition_results=drop_results, condition_label='Drop connect p', noise_baseline=drop_baseline, agents=top_agents, genomes=genomes, config=config, node_names=node_names)\n",
    "print(min(np.trapz(y=drop_results, x=drop_scales)), max(np.trapz(y=drop_results, x=drop_scales)))"
   ]
  },
  {
   "cell_type": "markdown",
   "metadata": {},
   "source": [
    "## Exact baselines"
   ]
  },
  {
   "cell_type": "code",
   "execution_count": null,
   "metadata": {},
   "outputs": [],
   "source": [
    "# # WIP: exact baseline \n",
    "# import itertools\n",
    "\n",
    "# # Parameters \n",
    "# n_actions = [-1, 1, 0]\n",
    "# n_time_steps = 10\n",
    "\n",
    "# # Enumerate \n",
    "# n_action_sequences = len(n_actions) ** n_time_steps \n",
    "# n_paths = len(np.unique(n_actions)) ** n_time_steps \n",
    "\n",
    "# all_paths = list(itertools.product(np.unique(n_actions), repeat=n_time_steps))\n",
    "# all_paths = np.array(all_paths, dtype='b')\n",
    "# all_paths_cu = np.cumsum(all_paths, axis=1) \n",
    "\n",
    "# # Boundary conditions \n",
    "# all_paths_cu = np.clip(all_paths_cu, a_min=-4, a_max=4)\n",
    "\n",
    "# fitness = []\n",
    "# for path in all_paths_cu:\n",
    "#     if min(path) == -4: # if you've reached the goal \n",
    "#         fitness.append(((1 - ((np.where(path == -4)[0][0] - 3) / (n_time_steps - 1 - 3))) + 1.0) * 0.5) # time + path \n",
    "#     else:\n",
    "#         fitness.append((8 - (path[-1] - (-4))) / 8)\n",
    "\n",
    "# print(np.mean(fitness))\n",
    "# # exact_baseline = mean(fitness of each path * how often it occurs in the action sequences) \n",
    "\n",
    "# # Does this deal with left and right trials correctly? "
   ]
  }
 ],
 "metadata": {
  "kernelspec": {
   "display_name": "Multimodal_mazes",
   "language": "python",
   "name": "python3"
  },
  "language_info": {
   "codemirror_mode": {
    "name": "ipython",
    "version": 3
   },
   "file_extension": ".py",
   "mimetype": "text/x-python",
   "name": "python",
   "nbconvert_exporter": "python",
   "pygments_lexer": "ipython3",
   "version": "3.11.5"
  }
 },
 "nbformat": 4,
 "nbformat_minor": 2
}
